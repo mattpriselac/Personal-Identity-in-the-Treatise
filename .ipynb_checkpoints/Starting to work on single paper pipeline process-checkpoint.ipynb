{
 "cells": [
  {
   "cell_type": "markdown",
   "metadata": {},
   "source": [
    "Single file processing pipeline development.\n",
    "Stage one, take in a pdf, process it to a no-ws txt file\n",
    "--I'm going to leave this stage out for now, i'll just import a file.\n",
    "Stage two, run the search process on the overall file\n",
    "Stage three, produce a score sheet for an individual file.\n",
    "Stage four, generate a comparison with overall scholarship\n",
    "Stage five, generate similarity and difference files."
   ]
  },
  {
   "cell_type": "code",
   "execution_count": 2,
   "metadata": {},
   "outputs": [],
   "source": [
    "file_in = open('search_texts/533Cottrell.txt', 'r')"
   ]
  },
  {
   "cell_type": "code",
   "execution_count": 5,
   "metadata": {},
   "outputs": [
    {
     "ename": "KeyError",
     "evalue": "'2.2.12.14'",
     "output_type": "error",
     "traceback": [
      "\u001b[0;31m---------------------------------------------------------------------------\u001b[0m",
      "\u001b[0;31mKeyError\u001b[0m                                  Traceback (most recent call last)",
      "\u001b[0;32m<ipython-input-5-a5999f7c40ac>\u001b[0m in \u001b[0;36m<module>\u001b[0;34m\u001b[0m\n\u001b[1;32m      9\u001b[0m \u001b[0mblank_score_sheet\u001b[0m\u001b[0;34m.\u001b[0m\u001b[0mclose\u001b[0m\u001b[0;34m(\u001b[0m\u001b[0;34m)\u001b[0m\u001b[0;34m\u001b[0m\u001b[0;34m\u001b[0m\u001b[0m\n\u001b[1;32m     10\u001b[0m \u001b[0;34m\u001b[0m\u001b[0m\n\u001b[0;32m---> 11\u001b[0;31m \u001b[0mprint\u001b[0m\u001b[0;34m(\u001b[0m\u001b[0mblank_score_dict\u001b[0m\u001b[0;34m[\u001b[0m\u001b[0;34m'2.2.12.14'\u001b[0m\u001b[0;34m]\u001b[0m\u001b[0;34m)\u001b[0m\u001b[0;34m\u001b[0m\u001b[0;34m\u001b[0m\u001b[0m\n\u001b[0m",
      "\u001b[0;31mKeyError\u001b[0m: '2.2.12.14'"
     ]
    }
   ],
   "source": [
    "#create fresh score sheet\n",
    "import csv\n",
    "\n",
    "blank_score_dict = {}\n",
    "blank_score_sheet = open('data_out/blank_master_score_sheet.csv', 'r')\n",
    "csvreader = csv.reader(blank_score_sheet)\n",
    "for row in csvreader:\n",
    "    blank_score_dict[row[0]] = int(row[1])\n",
    "blank_score_sheet.close()\n",
    "\n",
    "print(blank_score_dict['2.2.12.4'])"
   ]
  },
  {
   "cell_type": "code",
   "execution_count": null,
   "metadata": {},
   "outputs": [],
   "source": []
  }
 ],
 "metadata": {
  "kernelspec": {
   "display_name": "Python 3",
   "language": "python",
   "name": "python3"
  },
  "language_info": {
   "codemirror_mode": {
    "name": "ipython",
    "version": 3
   },
   "file_extension": ".py",
   "mimetype": "text/x-python",
   "name": "python",
   "nbconvert_exporter": "python",
   "pygments_lexer": "ipython3",
   "version": "3.8.2"
  }
 },
 "nbformat": 4,
 "nbformat_minor": 4
}
